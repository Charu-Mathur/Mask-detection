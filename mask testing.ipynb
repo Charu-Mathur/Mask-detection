{
 "cells": [
  {
   "cell_type": "code",
   "execution_count": 1,
   "id": "natural-walker",
   "metadata": {},
   "outputs": [],
   "source": [
    "from tensorflow.keras.applications.mobilenet_v2 import preprocess_input\n",
    "from tensorflow.keras.preprocessing.image import img_to_array\n",
    "from tensorflow.keras.models import load_model\n",
    "import numpy as np\n",
    "import cv2\n",
    "import os"
   ]
  },
  {
   "cell_type": "code",
   "execution_count": 10,
   "id": "minimal-slovak",
   "metadata": {},
   "outputs": [],
   "source": [
    "prototxtPath=os.path.sep.join([r'D:\\face-mask-detector','deploy.prototxt'])\n",
    "weightsPath=os.path.sep.join([r'D:\\face-mask-detector','res10_300x300_ssd_iter_140000.caffemodel'])"
   ]
  },
  {
   "cell_type": "code",
   "execution_count": 11,
   "id": "compound-history",
   "metadata": {},
   "outputs": [
    {
     "data": {
      "text/plain": [
       "'D:\\\\face-mask-detector\\\\deploy.prototxt'"
      ]
     },
     "execution_count": 11,
     "metadata": {},
     "output_type": "execute_result"
    }
   ],
   "source": [
    "prototxtPath"
   ]
  },
  {
   "cell_type": "code",
   "execution_count": 12,
   "id": "structural-instruction",
   "metadata": {},
   "outputs": [
    {
     "data": {
      "text/plain": [
       "'D:\\\\face-mask-detector\\\\res10_300x300_ssd_iter_140000.caffemodel'"
      ]
     },
     "execution_count": 12,
     "metadata": {},
     "output_type": "execute_result"
    }
   ],
   "source": [
    "weightsPath"
   ]
  },
  {
   "cell_type": "code",
   "execution_count": 13,
   "id": "printable-marriage",
   "metadata": {},
   "outputs": [],
   "source": [
    "net=cv2.dnn.readNet(prototxtPath,weightsPath)"
   ]
  },
  {
   "cell_type": "code",
   "execution_count": 14,
   "id": "impaired-afghanistan",
   "metadata": {},
   "outputs": [],
   "source": [
    "model=load_model(r'D:\\face-mask-detector\\mobilenet_v2.model')"
   ]
  },
  {
   "cell_type": "code",
   "execution_count": 22,
   "id": "knowing-pitch",
   "metadata": {},
   "outputs": [],
   "source": [
    "image=cv2.imread(r'D:\\face-mask-detector\\20190827_172001.jpg')"
   ]
  },
  {
   "cell_type": "code",
   "execution_count": 23,
   "id": "other-nursery",
   "metadata": {},
   "outputs": [
    {
     "data": {
      "text/plain": [
       "array([[[192, 197, 195],\n",
       "        [194, 199, 197],\n",
       "        [197, 202, 200],\n",
       "        ...,\n",
       "        [204, 208, 202],\n",
       "        [208, 212, 206],\n",
       "        [217, 221, 215]],\n",
       "\n",
       "       [[193, 198, 196],\n",
       "        [192, 197, 195],\n",
       "        [194, 199, 197],\n",
       "        ...,\n",
       "        [201, 205, 199],\n",
       "        [211, 215, 209],\n",
       "        [219, 223, 217]],\n",
       "\n",
       "       [[193, 198, 196],\n",
       "        [193, 198, 196],\n",
       "        [193, 198, 196],\n",
       "        ...,\n",
       "        [204, 208, 202],\n",
       "        [214, 218, 212],\n",
       "        [219, 223, 217]],\n",
       "\n",
       "       ...,\n",
       "\n",
       "       [[117, 124, 127],\n",
       "        [120, 127, 130],\n",
       "        [123, 129, 134],\n",
       "        ...,\n",
       "        [ 88,  93,  91],\n",
       "        [ 88,  93,  91],\n",
       "        [ 88,  93,  91]],\n",
       "\n",
       "       [[117, 124, 127],\n",
       "        [120, 127, 130],\n",
       "        [123, 129, 134],\n",
       "        ...,\n",
       "        [ 93,  98,  96],\n",
       "        [ 93,  98,  96],\n",
       "        [ 93,  98,  96]],\n",
       "\n",
       "       [[117, 124, 127],\n",
       "        [120, 127, 130],\n",
       "        [123, 129, 134],\n",
       "        ...,\n",
       "        [ 99, 104, 102],\n",
       "        [ 99, 104, 102],\n",
       "        [ 99, 104, 102]]], dtype=uint8)"
      ]
     },
     "execution_count": 23,
     "metadata": {},
     "output_type": "execute_result"
    }
   ],
   "source": [
    "image"
   ]
  },
  {
   "cell_type": "code",
   "execution_count": 24,
   "id": "increased-candle",
   "metadata": {},
   "outputs": [
    {
     "data": {
      "text/plain": [
       "(1583, 1403)"
      ]
     },
     "execution_count": 24,
     "metadata": {},
     "output_type": "execute_result"
    }
   ],
   "source": [
    "(h,w)=image.shape[:2]\n",
    "(h,w)"
   ]
  },
  {
   "cell_type": "code",
   "execution_count": 25,
   "id": "bright-volunteer",
   "metadata": {},
   "outputs": [
    {
     "data": {
      "text/plain": [
       "array([[[[  89.,   90.,   86., ...,  110.,   23.,  101.],\n",
       "         [  85.,   79.,   75., ...,  106.,   23.,   99.],\n",
       "         [ -11.,   -8.,   -8., ...,  108.,   24.,   97.],\n",
       "         ...,\n",
       "         [  17.,   25.,   26., ...,  -36.,  -38.,  -39.],\n",
       "         [  17.,   25.,   26., ...,  -35.,  -35.,  -35.],\n",
       "         [  18.,   25.,   26., ...,  -15.,  -15.,  -17.]],\n",
       "\n",
       "        [[  21.,   22.,   19., ...,   36.,  -50.,   32.],\n",
       "         [  17.,    9.,    6., ...,   32.,  -49.,   31.],\n",
       "         [ -83.,  -81.,  -81., ...,   33.,  -48.,   29.],\n",
       "         ...,\n",
       "         [ -49.,  -39.,  -36., ..., -112., -112., -112.],\n",
       "         [ -50.,  -39.,  -36., ..., -108., -108., -108.],\n",
       "         [ -48.,  -39.,  -36., ...,  -86.,  -85.,  -85.]],\n",
       "\n",
       "        [[  73.,   74.,   71., ...,   80.,   -9.,   80.],\n",
       "         [  67.,   57.,   54., ...,   77.,   -8.,   76.],\n",
       "         [ -37.,  -39.,  -41., ...,   77.,   -7.,   74.],\n",
       "         ...,\n",
       "         [   9.,   19.,   22., ...,  -56.,  -56.,  -57.],\n",
       "         [   9.,   19.,   22., ...,  -54.,  -54.,  -54.],\n",
       "         [  10.,   19.,   22., ...,  -32.,  -33.,  -33.]]]], dtype=float32)"
      ]
     },
     "execution_count": 25,
     "metadata": {},
     "output_type": "execute_result"
    }
   ],
   "source": [
    "blob=cv2.dnn.blobFromImage(image,1.0,(300,300),(104.0,177.0,123.0))\n",
    "blob"
   ]
  },
  {
   "cell_type": "code",
   "execution_count": 26,
   "id": "brown-white",
   "metadata": {},
   "outputs": [
    {
     "data": {
      "text/plain": [
       "(1, 3, 300, 300)"
      ]
     },
     "execution_count": 26,
     "metadata": {},
     "output_type": "execute_result"
    }
   ],
   "source": [
    "blob.shape"
   ]
  },
  {
   "cell_type": "code",
   "execution_count": 27,
   "id": "narrative-destination",
   "metadata": {},
   "outputs": [
    {
     "data": {
      "text/plain": [
       "array([[[[0.        , 1.        , 0.99996424, ..., 0.09913768,\n",
       "          0.7198938 , 0.58546543],\n",
       "         [0.        , 1.        , 0.11593315, ..., 4.015192  ,\n",
       "          4.8457193 , 4.9840813 ],\n",
       "         [0.        , 1.        , 0.11162671, ..., 4.015235  ,\n",
       "          0.83312833, 4.987076  ],\n",
       "         ...,\n",
       "         [0.        , 0.        , 0.        , ..., 0.        ,\n",
       "          0.        , 0.        ],\n",
       "         [0.        , 0.        , 0.        , ..., 0.        ,\n",
       "          0.        , 0.        ],\n",
       "         [0.        , 0.        , 0.        , ..., 0.        ,\n",
       "          0.        , 0.        ]]]], dtype=float32)"
      ]
     },
     "execution_count": 27,
     "metadata": {},
     "output_type": "execute_result"
    }
   ],
   "source": [
    "net.setInput(blob)\n",
    "detections=net.forward()\n",
    "detections"
   ]
  },
  {
   "cell_type": "code",
   "execution_count": 28,
   "id": "administrative-belarus",
   "metadata": {},
   "outputs": [],
   "source": [
    "for i in range(0,detections.shape[2]):\n",
    "    confidence=detections[0,0,i,2]\n",
    "    \n",
    "    \n",
    "    if confidence>0.5:\n",
    "        #we need the X,Y coordinates\n",
    "        box=detections[0,0,i,3:7]*np.array([w,h,w,h])\n",
    "        (startX,startY,endX,endY)=box.astype('int')\n",
    "        \n",
    "        #ensure the bounding boxes fall within the dimensions of the frame\n",
    "        (startX,startY)=(max(0,startX),max(0,startY))\n",
    "        (endX,endY)=(min(w-1,endX), min(h-1,endY))\n",
    "        \n",
    "        \n",
    "        #extract the face ROI, convert it from BGR to RGB channel, resize it to 224,224 and preprocess it\n",
    "        face=image[startY:endY, startX:endX]\n",
    "        face=cv2.cvtColor(face,cv2.COLOR_BGR2RGB)\n",
    "        face=cv2.resize(face,(224,224))\n",
    "        face=img_to_array(face)\n",
    "        face=preprocess_input(face)\n",
    "        face=np.expand_dims(face,axis=0)\n",
    "        \n",
    "        (mask,withoutMask)=model.predict(face)[0]\n",
    "        \n",
    "        #determine the class label and color we will use to draw the bounding box and text\n",
    "        label='Mask' if mask>withoutMask else 'No Mask'\n",
    "        color=(0,255,0) if label=='Mask' else (0,0,255)\n",
    "        \n",
    "        #include the probability in the label\n",
    "        label=\"{}: {:.2f}%\".format(label,max(mask,withoutMask)*100)\n",
    "        \n",
    "        #display the label and bounding boxes\n",
    "        cv2.putText(image,label,(startX,startY-10),cv2.FONT_HERSHEY_SIMPLEX,0.45,color,2)\n",
    "        cv2.rectangle(image,(startX,startY),(endX,endY),color,2)\n",
    "        \n",
    "        \n",
    "        \n",
    "cv2.imshow(\"OutPut\",image)\n",
    "cv2.waitKey(0)\n",
    "cv2.destroyAllWindows()"
   ]
  },
  {
   "cell_type": "code",
   "execution_count": null,
   "id": "removable-scope",
   "metadata": {},
   "outputs": [],
   "source": []
  }
 ],
 "metadata": {
  "kernelspec": {
   "display_name": "Python 3",
   "language": "python",
   "name": "python3"
  },
  "language_info": {
   "codemirror_mode": {
    "name": "ipython",
    "version": 3
   },
   "file_extension": ".py",
   "mimetype": "text/x-python",
   "name": "python",
   "nbconvert_exporter": "python",
   "pygments_lexer": "ipython3",
   "version": "3.8.5"
  }
 },
 "nbformat": 4,
 "nbformat_minor": 5
}
